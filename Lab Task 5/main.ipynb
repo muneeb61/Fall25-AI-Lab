{
 "cells": [
  {
   "cell_type": "markdown",
   "id": "3150a9b7",
   "metadata": {},
   "source": [
    "### ___Lab 5 Tasks___"
   ]
  },
  {
   "cell_type": "markdown",
   "id": "02408999",
   "metadata": {},
   "source": [
    "#### __Task 1__ (DFS with Stack and Node)"
   ]
  },
  {
   "cell_type": "code",
   "execution_count": 1,
   "id": "32342160",
   "metadata": {},
   "outputs": [
    {
     "name": "stdout",
     "output_type": "stream",
     "text": [
      "DFS using Stack:\n",
      "0 2 1 4 3 "
     ]
    }
   ],
   "source": [
    "def dfs_stack(graph, start):\n",
    "    visited = set()      \n",
    "    stack = [start]      \n",
    "\n",
    "    while stack:\n",
    "        current = stack.pop() \n",
    "        if current not in visited:\n",
    "            print(current, end=\" \")  \n",
    "            visited.add(current)\n",
    "            for neighbor in(graph[current]):\n",
    "                if neighbor not in visited:\n",
    "                    stack.append(neighbor)\n",
    "                    \n",
    "graph = {'0': ['1', '2'],\n",
    "    '1': ['3', '4'],\n",
    "    '2': [],\n",
    "    '3': [],\n",
    "    '4': []\n",
    "}\n",
    "\n",
    "print(\"DFS using Stack:\")\n",
    "dfs_stack(graph, '0')\n"
   ]
  },
  {
   "cell_type": "markdown",
   "id": "ec7f5fd1",
   "metadata": {},
   "source": [
    "#### __Task 2__"
   ]
  },
  {
   "cell_type": "markdown",
   "id": "a4e50490",
   "metadata": {},
   "source": [
    "#####  __Research Summary: Inorder, Preorder, Postorder in DFS__\n",
    "\n",
    "Tree traversals are different **Depth-First Search (DFS)** strategies used in binary trees:\n",
    "\n",
    "\n",
    "\n",
    "##### 1. **Preorder Traversal (Root → Left → Right)**\n",
    "\n",
    "- Visit the **root first**  \n",
    "- Then recursively traverse the **left subtree**  \n",
    "- Then recursively traverse the **right subtree**  \n",
    "        - Useful for creating a **copy of the tree**.\n",
    "\n",
    "\n",
    "\n",
    "##### 2. **Inorder Traversal (Left → Root → Right)**\n",
    "\n",
    "- Visit the **left subtree first**  \n",
    "- Then visit the **root**  \n",
    "- Then recursively traverse the **right subtree**  \n",
    "        - In **Binary Search Trees (BST)**, inorder gives **sorted order** of elements.\n",
    "\n",
    "\n",
    "\n",
    "##### 3. **Postorder Traversal (Left → Right → Root)**\n",
    "\n",
    "- Visit the **left subtree**  \n",
    "- Then recursively traverse the **right subtree**  \n",
    "- Finally visit the **root**  \n",
    "        - Useful for **deleting/freeing a tree**.\n"
   ]
  },
  {
   "cell_type": "markdown",
   "id": "63656fb4",
   "metadata": {},
   "source": [
    "##### __Implementation__"
   ]
  },
  {
   "cell_type": "code",
   "execution_count": 5,
   "id": "bd293252",
   "metadata": {},
   "outputs": [
    {
     "name": "stdout",
     "output_type": "stream",
     "text": [
      "Inorder Traversal: 4 2 5 1 3 \n",
      "Preorder Traversal: 1 2 4 5 3 \n",
      "Postorder Traversal: 4 5 2 3 1 "
     ]
    }
   ],
   "source": [
    "tree = {\n",
    "    '1': ['2', '3'],\n",
    "    '2': ['4', '5'],\n",
    "    '3': [None, None],\n",
    "    '4': [None, None],\n",
    "    '5': [None, None]\n",
    "}\n",
    "\n",
    "def inorder(tree, root):\n",
    "    if root is None:\n",
    "        return\n",
    "    left, right = tree[root]\n",
    "    inorder(tree, left)\n",
    "    print(root, end=\" \")\n",
    "    inorder(tree, right)\n",
    "\n",
    "def preorder(tree, root):\n",
    "    if root is None:\n",
    "        return\n",
    "    left, right = tree[root]\n",
    "    print(root, end=\" \")\n",
    "    preorder(tree, left)\n",
    "    preorder(tree, right)\n",
    "\n",
    "def postorder(tree, root):\n",
    "    if root is None:\n",
    "        return\n",
    "    left, right = tree[root]\n",
    "    postorder(tree, left)\n",
    "    postorder(tree, right)\n",
    "    print(root, end=\" \")\n",
    "print(\"Inorder Traversal: \", end=\"\")\n",
    "inorder(tree, '1')\n",
    "\n",
    "print(\"\\nPreorder Traversal: \", end=\"\")\n",
    "preorder(tree, '1')\n",
    "\n",
    "print(\"\\nPostorder Traversal: \", end=\"\")\n",
    "postorder(tree, '1')\n"
   ]
  }
 ],
 "metadata": {
  "kernelspec": {
   "display_name": "base",
   "language": "python",
   "name": "python3"
  },
  "language_info": {
   "codemirror_mode": {
    "name": "ipython",
    "version": 3
   },
   "file_extension": ".py",
   "mimetype": "text/x-python",
   "name": "python",
   "nbconvert_exporter": "python",
   "pygments_lexer": "ipython3",
   "version": "3.13.5"
  }
 },
 "nbformat": 4,
 "nbformat_minor": 5
}
