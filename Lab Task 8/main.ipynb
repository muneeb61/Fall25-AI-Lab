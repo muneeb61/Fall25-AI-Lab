{
 "cells": [
  {
   "cell_type": "code",
   "execution_count": 1,
   "id": "c13529e3",
   "metadata": {},
   "outputs": [
    {
     "name": "stdout",
     "output_type": "stream",
     "text": [
      "The optimal value is : 8\n"
     ]
    }
   ],
   "source": [
    "# maximizing player can get \n",
    "import math \n",
    "  \n",
    "def minimax (curDepth, nodeIndex, maxTurn, scores, targetDepth): \n",
    "    # base case : targetDepth reached \n",
    "    if (curDepth == targetDepth): \n",
    "        return scores[nodeIndex] \n",
    "      \n",
    "    if (maxTurn): \n",
    "        return max(minimax(curDepth + 1, nodeIndex * 2, False, scores, targetDepth),   \n",
    "                          minimax(curDepth + 1, nodeIndex * 2 + 1, False, scores, targetDepth)) \n",
    "    else: \n",
    "        return min(minimax(curDepth + 1, nodeIndex * 2, True, scores, targetDepth), \n",
    "                          minimax(curDepth + 1, nodeIndex * 2 + 1, True, scores, targetDepth)) \n",
    "      \n",
    "# Driver code \n",
    "scores = [8, 3, 10, 5, 2, 7, 9, 4] \n",
    "Depth_of_Tree = math.log(len(scores), 2) \n",
    "print(\"The optimal value is : \", end = \"\") \n",
    "print(minimax(0, 0, True, scores, Depth_of_Tree)) \n",
    "  \n"
   ]
  }
 ],
 "metadata": {
  "kernelspec": {
   "display_name": "Python 3",
   "language": "python",
   "name": "python3"
  },
  "language_info": {
   "codemirror_mode": {
    "name": "ipython",
    "version": 3
   },
   "file_extension": ".py",
   "mimetype": "text/x-python",
   "name": "python",
   "nbconvert_exporter": "python",
   "pygments_lexer": "ipython3",
   "version": "3.14.0"
  }
 },
 "nbformat": 4,
 "nbformat_minor": 5
}
