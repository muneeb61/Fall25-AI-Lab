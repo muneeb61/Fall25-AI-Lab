{
 "cells": [
  {
   "cell_type": "markdown",
   "id": "ae8d338e",
   "metadata": {},
   "source": [
    "### ___Lab 6 Tasks___"
   ]
  },
  {
   "cell_type": "markdown",
   "id": "207208e4",
   "metadata": {},
   "source": [
    "#### __Task 1__ (BFS without Queue and Node)"
   ]
  },
  {
   "cell_type": "code",
   "execution_count": 1,
   "id": "8c3a2e2a",
   "metadata": {},
   "outputs": [
    {
     "name": "stdout",
     "output_type": "stream",
     "text": [
      "Traversal (BFS without Queue & Node):\n",
      "A B C D E F G H I K L M "
     ]
    }
   ],
   "source": [
    "# Graph as dictionary\n",
    "net = {\n",
    "    'A': ['B', 'C'],\n",
    "    'B': ['D', 'E'],\n",
    "    'C': ['F'],\n",
    "    'D': ['G', 'H'],\n",
    "    'E': [],\n",
    "    'F': ['I', 'K'],\n",
    "    'G': [],\n",
    "    'H': ['L'],\n",
    "    'I': [],\n",
    "    'K': ['M'],\n",
    "    'L': [],\n",
    "    'M': []\n",
    "}\n",
    "\n",
    "\n",
    "def without_Queue(tree, source):\n",
    "    explored = []\n",
    "\n",
    "    def traverse(level_nodes):\n",
    "        if level_nodes == []:\n",
    "            return\n",
    "        \n",
    "        nxt = []\n",
    "        for item in level_nodes:\n",
    "            if item not in explored:\n",
    "                print(item, end=\" \")\n",
    "                explored.append(item)\n",
    "                nxt += tree[item]\n",
    "        traverse(nxt)\n",
    "\n",
    "    traverse([source])\n",
    "\n",
    "\n",
    "print(\"Traversal (BFS without Queue & Node):\")\n",
    "without_Queue(net, 'A')\n"
   ]
  },
  {
   "cell_type": "markdown",
   "id": "cd1f363c",
   "metadata": {},
   "source": [
    "#### __Task 2__ (BFS with Queue and Node)"
   ]
  },
  {
   "cell_type": "code",
   "execution_count": 2,
   "id": "04be5e9c",
   "metadata": {},
   "outputs": [
    {
     "name": "stdout",
     "output_type": "stream",
     "text": [
      "Traversal (BFS with Queue):\n",
      "A B C D E F G H I K L M "
     ]
    }
   ],
   "source": [
    "def with_Queue(net, src):\n",
    "    seen = []\n",
    "    q = [src]    \n",
    "\n",
    "    while len(q) > 0:\n",
    "        curr = q.pop(0)   \n",
    "        if curr not in seen:\n",
    "            print(curr, end=\" \")\n",
    "            seen.append(curr)\n",
    "\n",
    "            for adj in net[curr]:\n",
    "                if adj not in seen and adj not in q:\n",
    "                    q.append(adj)\n",
    "\n",
    "\n",
    "print(\"Traversal (BFS with Queue):\")\n",
    "with_Queue(net, 'A')\n"
   ]
  }
 ],
 "metadata": {
  "kernelspec": {
   "display_name": "base",
   "language": "python",
   "name": "python3"
  },
  "language_info": {
   "codemirror_mode": {
    "name": "ipython",
    "version": 3
   },
   "file_extension": ".py",
   "mimetype": "text/x-python",
   "name": "python",
   "nbconvert_exporter": "python",
   "pygments_lexer": "ipython3",
   "version": "3.13.5"
  }
 },
 "nbformat": 4,
 "nbformat_minor": 5
}
