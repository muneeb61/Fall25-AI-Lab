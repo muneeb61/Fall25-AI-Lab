{
 "cells": [
  {
   "cell_type": "markdown",
   "id": "1f526696",
   "metadata": {},
   "source": [
    "## Mini Project 2 — Movie Budget Analysis\n",
    "\n",
    "### Task Instructions\n",
    "\n",
    "1. Start with the given list of movies, where each item is a tuple containing:\n",
    "   - Movie name\n",
    "   - Movie budget\n",
    "\n",
    "2. Calculate the **average budget** of all movies in the dataset.\n",
    "\n",
    "3. Print out every movie that has a **budget higher than the average** you calculated.  \n",
    "   - Also print how much higher than the average the movie's budget was.\n",
    "\n",
    "4. Print out **how many movies** spent more than the average you calculated.\n",
    "\n",
    "5. **Extra Challenge:**  \n",
    "   - Allow users to add more movies to the dataset before running the calculations.  \n",
    "   - Ask the user how many movies they want to add.  \n",
    "   - Use a `for` loop with `range` to repeat input collection.  \n",
    "   - Inside the loop, take input for the movie name and budget, and append this as a tuple to the list.\n"
   ]
  },
  {
   "cell_type": "code",
   "execution_count": 6,
   "id": "8d2d1acb",
   "metadata": {},
   "outputs": [
    {
     "name": "stdout",
     "output_type": "stream",
     "text": [
      "Average budget: 190500000.0\n",
      "Pirates of the Caribbean: On Stranger Tides is above average by 188500000.0\n",
      "Avengers: Age of Ultron is above average by 174500000.0\n",
      "Avengers: Endgame is above average by 165500000.0\n",
      "Incredibles 2 is above average by 9500000.0\n",
      "Number of movies above average: 4\n"
     ]
    }
   ],
   "source": [
    "movies = [\n",
    "    (\"Eternal Sunshine of the Spotless Mind\", 20000000),\n",
    "    (\"Memento\", 9000000),\n",
    "    (\"Requiem for a Dream\", 4500000),\n",
    "    (\"Pirates of the Caribbean: On Stranger Tides\", 379000000),\n",
    "    (\"Avengers: Age of Ultron\", 365000000),\n",
    "    (\"Avengers: Endgame\", 356000000),\n",
    "    (\"Incredibles 2\", 200000000)\n",
    "]\n",
    "\n",
    "\n",
    "num = int(input(\"How many movies do you want to add? \"))\n",
    "for i in range(num):\n",
    "    name = input(\"Enter movie name: \")\n",
    "    budget = int(input(\"Enter movie budget: \"))\n",
    "    movies.append((name, budget))\n",
    "\n",
    "\n",
    "total = 0\n",
    "for movie in movies:\n",
    "    total += movie[1]\n",
    "average = total / len(movies)\n",
    "print(\"Average budget:\", average)\n",
    "\n",
    "\n",
    "count = 0\n",
    "for movie in movies:\n",
    "    if movie[1] > average:\n",
    "        diff = movie[1] - average\n",
    "        print(movie[0], \"is above average by\", diff)\n",
    "        count += 1\n",
    "\n",
    "print(\"Number of movies above average:\", count)\n"
   ]
  }
 ],
 "metadata": {
  "kernelspec": {
   "display_name": "base",
   "language": "python",
   "name": "python3"
  },
  "language_info": {
   "codemirror_mode": {
    "name": "ipython",
    "version": 3
   },
   "file_extension": ".py",
   "mimetype": "text/x-python",
   "name": "python",
   "nbconvert_exporter": "python",
   "pygments_lexer": "ipython3",
   "version": "3.13.5"
  }
 },
 "nbformat": 4,
 "nbformat_minor": 5
}
