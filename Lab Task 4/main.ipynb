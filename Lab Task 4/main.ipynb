{
 "cells": [
  {
   "cell_type": "markdown",
   "id": "558e9235",
   "metadata": {},
   "source": [
    "#### __Code for LUHN Algorithm__"
   ]
  },
  {
   "cell_type": "code",
   "execution_count": 13,
   "id": "8a650eb0",
   "metadata": {},
   "outputs": [
    {
     "name": "stdout",
     "output_type": "stream",
     "text": [
      "6074227196220459 is NOT Valid\n"
     ]
    }
   ],
   "source": [
    "def luhn(card_num):\n",
    "    last_digit = int(card_num[-1])\n",
    "    digits = [int(x) for x in card_num[:-1]]\n",
    "    digits.reverse()\n",
    "    for idx in range(0, len(digits), 2):\n",
    "        digits[idx] *= 2\n",
    "        if digits[idx] > 9:\n",
    "            digits[idx] -= 9\n",
    "\n",
    "    total_sum = sum(digits) + last_digit\n",
    "    return total_sum % 10 == 0\n",
    "\n",
    "\n",
    "card_number = \"6074227196220459\"\n",
    "if luhn(card_number):\n",
    "    print(f\"{card_number} is VALID\")\n",
    "else:\n",
    "    print(f\"{card_number} is NOT Valid\")\n"
   ]
  },
  {
   "cell_type": "markdown",
   "id": "2e56daf5",
   "metadata": {},
   "source": [
    "#### __Remove Punctuation from the given String__"
   ]
  },
  {
   "cell_type": "code",
   "execution_count": 15,
   "id": "c873f8bb",
   "metadata": {},
   "outputs": [
    {
     "name": "stdout",
     "output_type": "stream",
     "text": [
      "Original String: Hey, Man; this is' not over, yet\n",
      "Cleaned String: Hey Man this is not over yet\n"
     ]
    }
   ],
   "source": [
    "text = \"Hey, Man; this is' not over, yet\"\n",
    "\n",
    "result = \"\"\n",
    "\n",
    "for ch in text:\n",
    "    if ch.isalnum() or ch == \" \":\n",
    "        result += ch\n",
    "\n",
    "print(\"Original String:\", text)\n",
    "print(\"Cleaned String:\", result)\n"
   ]
  },
  {
   "cell_type": "markdown",
   "id": "c5327cf9",
   "metadata": {},
   "source": [
    "### __Sorting the Sentence in Alphabetical Order__"
   ]
  },
  {
   "cell_type": "markdown",
   "id": "5083e21c",
   "metadata": {},
   "source": [
    "#### __By Chracter__"
   ]
  },
  {
   "cell_type": "code",
   "execution_count": 17,
   "id": "3948539d",
   "metadata": {},
   "outputs": [
    {
     "name": "stdout",
     "output_type": "stream",
     "text": [
      "Chars:   IMabeemnu"
     ]
    }
   ],
   "source": [
    "text = \"I am Muneeb\"\n",
    "letters = [ch for ch in text]\n",
    "\n",
    "for i in range(len(letters)):\n",
    "    for j in range(len(letters) - i - 1):\n",
    "        if ord(letters[j]) > ord(letters[j + 1]):\n",
    "            letters[j], letters[j + 1] = letters[j + 1], letters[j]\n",
    "\n",
    "print(\"Chars:\", end=\" \")\n",
    "for ch in letters:\n",
    "    print(ch, end=\"\")\n"
   ]
  },
  {
   "cell_type": "markdown",
   "id": "af3d01b3",
   "metadata": {},
   "source": [
    "#### __By Word__"
   ]
  },
  {
   "cell_type": "code",
   "execution_count": 20,
   "id": "01830451",
   "metadata": {},
   "outputs": [
    {
     "name": "stdout",
     "output_type": "stream",
     "text": [
      "Words: I Muneeb am"
     ]
    }
   ],
   "source": [
    "text = \"I am Muneeb\"\n",
    "word_list, temp = [], \"\"\n",
    "for ch in text:\n",
    "    if ch != \" \": temp += ch\n",
    "    else:\n",
    "        if temp: word_list.append(temp); temp = \"\"\n",
    "if temp: word_list.append(temp)\n",
    "\n",
    "for i in range(len(word_list)):\n",
    "    for j in range(len(word_list)-i-1):\n",
    "        k = 0\n",
    "        while k < len(word_list[j]) and k < len(word_list[j+1]) and word_list[j][k] == word_list[j+1][k]:\n",
    "            k += 1\n",
    "        if k < len(word_list[j]) and (k == len(word_list[j+1]) or ord(word_list[j][k]) > ord(word_list[j+1][k])):\n",
    "            word_list[j], word_list[j+1] = word_list[j+1], word_list[j]\n",
    "\n",
    "print(\"Words:\", end=\" \")\n",
    "for i in range(len(word_list)):\n",
    "    print(word_list[i], end=\" \" if i < len(word_list)-1 else \"\")\n"
   ]
  }
 ],
 "metadata": {
  "kernelspec": {
   "display_name": "base",
   "language": "python",
   "name": "python3"
  },
  "language_info": {
   "codemirror_mode": {
    "name": "ipython",
    "version": 3
   },
   "file_extension": ".py",
   "mimetype": "text/x-python",
   "name": "python",
   "nbconvert_exporter": "python",
   "pygments_lexer": "ipython3",
   "version": "3.13.5"
  }
 },
 "nbformat": 4,
 "nbformat_minor": 5
}
