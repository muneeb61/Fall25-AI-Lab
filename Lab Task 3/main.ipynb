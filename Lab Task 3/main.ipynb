{
 "cells": [
  {
   "cell_type": "code",
   "execution_count": 5,
   "id": "406fabe3",
   "metadata": {},
   "outputs": [
    {
     "name": "stdout",
     "output_type": "stream",
     "text": [
      "Living Room :\t20°C => Action: Turn off the AC\n",
      "Drawing Room :\t22°C => Action: No action needed\n",
      "Kitchen :\t34°C => Action: Turn on the AC\n",
      "Bed Room :\t18°C => Action: Turn off the AC\n",
      "\n",
      "Example of an individual room:\n",
      "24°C => Action: Turn on the AC\n"
     ]
    }
   ],
   "source": [
    "class ModelBasedReflexAgent:\n",
    "    def __init__(self, temp):\n",
    "        self.fixed_temp = temp\n",
    "        self.previous_action = None \n",
    "    \n",
    "    def sensor(self, temp):\n",
    "        self.current_temp = temp\n",
    "    \n",
    "    def performance(self):\n",
    "        action = None\n",
    "        if self.current_temp > self.fixed_temp:\n",
    "            action = \"Turn on the AC\"\n",
    "        else:\n",
    "            action = \"Turn off the AC\"\n",
    "            \n",
    "         # if the previous is equal to the current action   \n",
    "        if self.previous_action == action:\n",
    "            action = \"No action needed\"\n",
    "        \n",
    "        # updatring the previous action\n",
    "        self.previous_action = action\n",
    "        return action\n",
    "    \n",
    "    def actuator(self):\n",
    "        action = self.performance()\n",
    "        print(f\"{self.current_temp}°C => Action: {action}\")\n",
    "\n",
    "rooms = {\n",
    "    \"Living Room\": 20,\n",
    "    \"Drawing Room\": 22,\n",
    "    \"Kitchen\": 34,\n",
    "    \"Bed Room\": 18\n",
    "}\n",
    "\n",
    "\n",
    "agent = ModelBasedReflexAgent(22)\n",
    "for room, temp in rooms.items():\n",
    "    print(f\"{room} :\\t\", end='')\n",
    "    agent.sensor(temp)\n",
    "    agent.actuator()\n",
    "\n",
    "\n",
    "print(\"\\nExample of an individual room:\")\n",
    "agent.sensor(24)\n",
    "agent.actuator()\n"
   ]
  }
 ],
 "metadata": {
  "kernelspec": {
   "display_name": "base",
   "language": "python",
   "name": "python3"
  },
  "language_info": {
   "codemirror_mode": {
    "name": "ipython",
    "version": 3
   },
   "file_extension": ".py",
   "mimetype": "text/x-python",
   "name": "python",
   "nbconvert_exporter": "python",
   "pygments_lexer": "ipython3",
   "version": "3.13.5"
  }
 },
 "nbformat": 4,
 "nbformat_minor": 5
}
